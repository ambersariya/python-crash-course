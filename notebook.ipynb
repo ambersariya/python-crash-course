{
 "cells": [
  {
   "cell_type": "markdown",
   "metadata": {
    "collapsed": false
   },
   "source": [
    "# Python Introduction\n",
    "\n",
    "### 1. What is Python?\n",
    "    \n",
    "Python is a general-purpose language, which means it’s designed to be used in a range of applications, including data science, software and web development, automation, and generally getting stuff done. It has become one of the most popular programming languages in the world in recent years and has been used to create everything from Netflix’s recommendation algorithm to the software that controls self-driving cars.Python includes high-level data structures, dynamic typing and binding, and many more features that make it as useful for complex application development as it is for scripting. It can also be extended to make system calls to almost all operating systems and to run code written in C or C++. Lastly, Python is an objected oriented programming language as in everything in python is an object. But while that is true, it is also trivial to write code in a functional manner.\n",
    "\n",
    "### 2. Why Python?\n",
    "        \n",
    "1. Python has simple, easy to learn syntax which emphasizes readability. Thus, it’s beginner friendly.<br><br>\n",
    "2.there is no compilation step, the edit-test-debug cycle is incredibly fast. Debugging Python programs is easy: a bug or bad input will never cause a segmentation fault.<br><br>\n",
    "3. It’s open source, which means it’s free to use and distribute, even for commercial purposes.<br><br>\n",
    "4. It's versatile<br> <br>\n",
    "5. Python has a large and active community that contributes to Python’s pool of modules and libraries, and acts as a helpful resource for other programmers. The vast support community means that if coders run into a stumbling block, finding a solution is relatively easy; somebody is bound to have run into the same problem before. <br> <br>"
   ]
  },
  {
   "cell_type": "markdown",
   "id": "mechanical-chapter",
   "metadata": {
    "id": "mechanical-chapter"
   },
   "source": [
    "# 3. Basic Datatypes\n",
    "\n",
    "There are four basic datatypes that we will go through in this section in order to get ourselves familiar with python.\n",
    "\n",
    "1. Integers\n",
    "2. Floating-Point numbers\n",
    "3. Strings\n",
    "4. Boolean"
   ]
  },
  {
   "cell_type": "markdown",
   "id": "numerical-bachelor",
   "metadata": {
    "id": "numerical-bachelor"
   },
   "source": [
    "#### 3.1 Integers"
   ]
  },
  {
   "cell_type": "code",
   "execution_count": 1,
   "id": "manual-entertainment",
   "metadata": {
    "colab": {
     "base_uri": "https://localhost:8080/"
    },
    "id": "manual-entertainment",
    "outputId": "05a7a717-d0f6-4a24-d388-23acf5131313"
   },
   "outputs": [
    {
     "name": "stdout",
     "output_type": "stream",
     "text": [
      "1\n",
      "<class 'int'>\n",
      "3 3\n",
      "2 <class 'int'>\n"
     ]
    }
   ],
   "source": [
    "a=1\n",
    "print(a)\n",
    "print(type(a))\n",
    "b=2\n",
    "# you can do this as well\n",
    "a=b=3\n",
    "print(a,b)\n",
    "a,b = 1,2\n",
    "print(b,type(b))"
   ]
  },
  {
   "cell_type": "code",
   "execution_count": 2,
   "id": "hollywood-somalia",
   "metadata": {
    "colab": {
     "base_uri": "https://localhost:8080/"
    },
    "id": "hollywood-somalia",
    "outputId": "f18bfd6c-a238-463f-eb5a-1666d6d1844e"
   },
   "outputs": [
    {
     "name": "stdout",
     "output_type": "stream",
     "text": [
      "3 1 2 2.0 9 81 0\n"
     ]
    }
   ],
   "source": [
    "print(b+1,b-1,b*a,b/a,(b+1)**2,(b+1)**(b+2),(a+2)%3)"
   ]
  },
  {
   "cell_type": "code",
   "execution_count": 3,
   "id": "played-brooks",
   "metadata": {
    "colab": {
     "base_uri": "https://localhost:8080/"
    },
    "id": "played-brooks",
    "outputId": "9d6f3fdc-4b75-4fdc-e010-115af54ce57c"
   },
   "outputs": [
    {
     "name": "stdout",
     "output_type": "stream",
     "text": [
      "1\n",
      "2\n",
      "-2\n"
     ]
    }
   ],
   "source": [
    "b=1\n",
    "print(b)\n",
    "b+=1\n",
    "print(b)\n",
    "b-=4\n",
    "print(b)"
   ]
  },
  {
   "cell_type": "markdown",
   "id": "steady-corpus",
   "metadata": {
    "id": "steady-corpus"
   },
   "source": [
    "#### 3.2 Floats"
   ]
  },
  {
   "cell_type": "code",
   "execution_count": 4,
   "id": "capital-visitor",
   "metadata": {
    "colab": {
     "base_uri": "https://localhost:8080/"
    },
    "id": "capital-visitor",
    "outputId": "ef89dbb9-739f-4d63-c755-db3326695674"
   },
   "outputs": [
    {
     "name": "stdout",
     "output_type": "stream",
     "text": [
      "<class 'float'> <class 'float'>\n"
     ]
    }
   ],
   "source": [
    "a,b = 2.4, 3.4\n",
    "print(type(a),type(b))"
   ]
  },
  {
   "cell_type": "code",
   "execution_count": 5,
   "id": "atomic-biology",
   "metadata": {
    "colab": {
     "base_uri": "https://localhost:8080/"
    },
    "id": "atomic-biology",
    "outputId": "c0f9feef-0c3d-4fcd-b45c-2d2a5f80cc13"
   },
   "outputs": [
    {
     "name": "stdout",
     "output_type": "stream",
     "text": [
      "4.4 2.4 8.16 1.4166666666666667 19.360000000000003 2982.939554520377 1.4000000000000004\n"
     ]
    }
   ],
   "source": [
    "print(b+1,b-1,b*a,b/a,(b+1)**2,(b+1)**(b+2),(a+2)%3)"
   ]
  },
  {
   "cell_type": "code",
   "execution_count": 6,
   "id": "indirect-onion",
   "metadata": {
    "colab": {
     "base_uri": "https://localhost:8080/"
    },
    "id": "indirect-onion",
    "outputId": "be29d5bf-0024-4609-c5b1-54ab13de41d3"
   },
   "outputs": [
    {
     "name": "stdout",
     "output_type": "stream",
     "text": [
      "4.4 2.4 8.16 1.42 19.36 2982.9396 1.4\n"
     ]
    }
   ],
   "source": [
    "print(b+1,b-1,round(b*a,2),round(b/a,2),round((b+1)**2,4),round((b+1)**(b+2),4),round((a+2)%3,6))"
   ]
  },
  {
   "cell_type": "code",
   "execution_count": 7,
   "id": "adapted-width",
   "metadata": {
    "colab": {
     "base_uri": "https://localhost:8080/"
    },
    "id": "adapted-width",
    "outputId": "665854aa-e599-44f0-bcd1-6ce57e61e1e7"
   },
   "outputs": [
    {
     "name": "stdout",
     "output_type": "stream",
     "text": [
      "2.0 2 2.0\n"
     ]
    }
   ],
   "source": [
    "print(float(2),int(2.4),float(int(2.4)))"
   ]
  },
  {
   "cell_type": "code",
   "execution_count": 8,
   "id": "seven-dependence",
   "metadata": {
    "id": "seven-dependence"
   },
   "outputs": [],
   "source": [
    "from math import floor,exp,ceil,log,sqrt,e,pi"
   ]
  },
  {
   "cell_type": "code",
   "execution_count": 9,
   "id": "spiritual-ceiling",
   "metadata": {
    "colab": {
     "base_uri": "https://localhost:8080/"
    },
    "id": "spiritual-ceiling",
    "outputId": "f6fabec4-8ffd-4d33-d28d-973088f3d6ed"
   },
   "outputs": [
    {
     "name": "stdout",
     "output_type": "stream",
     "text": [
      "2 2\n",
      "8\n",
      "4\n",
      "7.38905609893065 0.6931471805599453\n",
      "2.0\n",
      "3 4\n",
      "(3, 0)\n",
      "2.718281828459045\n",
      "3.141592653589793\n"
     ]
    }
   ],
   "source": [
    "print(floor(2.6),ceil(1.2))\n",
    "print(pow(2,3))\n",
    "print(abs(-4))\n",
    "print(exp(2),log(2))\n",
    "print(sqrt(4))\n",
    "print(max(2,3),min(4,5))\n",
    "print(divmod(6,2))\n",
    "print(e)\n",
    "print(pi)"
   ]
  },
  {
   "cell_type": "markdown",
   "id": "deadly-liechtenstein",
   "metadata": {
    "id": "deadly-liechtenstein"
   },
   "source": [
    "More can be found at https://www.tutorialspoint.com/python/python_numbers.htm\n",
    "\n",
    "\n",
    "Some of the functions will probably need to be imported through math"
   ]
  },
  {
   "cell_type": "markdown",
   "id": "physical-silver",
   "metadata": {
    "id": "physical-silver"
   },
   "source": [
    "#### 3.3 Strings"
   ]
  },
  {
   "cell_type": "code",
   "execution_count": 10,
   "id": "delayed-manner",
   "metadata": {
    "colab": {
     "base_uri": "https://localhost:8080/"
    },
    "id": "delayed-manner",
    "outputId": "a5c8bf30-3f0c-4693-d631-b31db86b32f3"
   },
   "outputs": [
    {
     "name": "stdout",
     "output_type": "stream",
     "text": [
      "Hello, world <class 'str'>\n",
      "12\n"
     ]
    }
   ],
   "source": [
    "var = 'Hello, world'\n",
    "print(var,type(var))\n",
    "print(len(var))"
   ]
  },
  {
   "cell_type": "code",
   "execution_count": 11,
   "id": "elementary-olive",
   "metadata": {
    "colab": {
     "base_uri": "https://localhost:8080/"
    },
    "id": "elementary-olive",
    "outputId": "2dc6fdb6-3ed3-4988-c95b-b73b000fe6cc"
   },
   "outputs": [
    {
     "name": "stdout",
     "output_type": "stream",
     "text": [
      "hello, world\n",
      "Hello, world\n",
      "HELLO, WORLD\n",
      "False True False True\n",
      "False False True\n"
     ]
    }
   ],
   "source": [
    "var = var.lower()\n",
    "print(var)\n",
    "print(var.capitalize())\n",
    "print(var.upper())\n",
    "print(var.isnumeric(),'2'.isnumeric(),'2e'.isnumeric(),'22'.isdigit())\n",
    "print(var.isalpha(),var.isalnum(),'hello'.isalpha())"
   ]
  },
  {
   "cell_type": "code",
   "execution_count": 12,
   "id": "separate-disorder",
   "metadata": {
    "colab": {
     "base_uri": "https://localhost:8080/"
    },
    "id": "separate-disorder",
    "outputId": "f46de9fb-bd41-4f44-f0fd-b2f9b4ccc6af"
   },
   "outputs": [
    {
     "name": "stdout",
     "output_type": "stream",
     "text": [
      "helloworld\n"
     ]
    }
   ],
   "source": [
    "var = 'hello' + 'world'\n",
    "print(var)"
   ]
  },
  {
   "cell_type": "code",
   "execution_count": 13,
   "id": "dated-amsterdam",
   "metadata": {
    "colab": {
     "base_uri": "https://localhost:8080/"
    },
    "id": "dated-amsterdam",
    "outputId": "9296d7cd-25cc-4d7a-c856-55a30a64d868"
   },
   "outputs": [
    {
     "name": "stdout",
     "output_type": "stream",
     "text": [
      "hello ! world\n",
      " hello ! world\n",
      "['hello', '!', 'world']\n",
      "[' hello ', ' world   ']\n",
      "True\n"
     ]
    }
   ],
   "source": [
    "var = ' hello ! world   '\n",
    "print(var.strip())\n",
    "print(var.rstrip())\n",
    "print(var.split())\n",
    "print(var.split('!'))\n",
    "print(var.rstrip().upper().isupper())"
   ]
  },
  {
   "cell_type": "code",
   "execution_count": 14,
   "id": "architectural-liechtenstein",
   "metadata": {
    "colab": {
     "base_uri": "https://localhost:8080/"
    },
    "id": "architectural-liechtenstein",
    "outputId": "aece2d7c-d51b-4a37-bece-cbec6e51a0f8"
   },
   "outputs": [
    {
     "name": "stdout",
     "output_type": "stream",
     "text": [
      "13\n"
     ]
    }
   ],
   "source": [
    "var = 'hello ! world'\n",
    "print(len(var))"
   ]
  },
  {
   "cell_type": "markdown",
   "id": "sharing-alliance",
   "metadata": {
    "id": "sharing-alliance"
   },
   "source": [
    "Strings in python are lists. We will show some stuff here regarding indexes and we will go more in depth in the lists section"
   ]
  },
  {
   "cell_type": "code",
   "execution_count": 15,
   "id": "established-owner",
   "metadata": {
    "colab": {
     "base_uri": "https://localhost:8080/"
    },
    "id": "established-owner",
    "outputId": "e6915d6e-9236-4eb8-9a93-20edc9505b19"
   },
   "outputs": [
    {
     "name": "stdout",
     "output_type": "stream",
     "text": [
      "1\n",
      "1\n",
      "l\n",
      "hell\n",
      "hell\n",
      "lo ! world\n",
      "d\n",
      "d\n",
      "hello ! worl\n",
      "llo \n",
      "llo \n",
      "lo\n",
      "dlrow ! olleh\n"
     ]
    }
   ],
   "source": [
    "print(var.find('e'))\n",
    "print(var.find('el'))\n",
    "print(var[2])\n",
    "print(var[0:4])\n",
    "print(var[:4])\n",
    "print(var[3:])\n",
    "print(var[12])\n",
    "print(var[-1])\n",
    "print(var[:-1])\n",
    "print(var[2:6:1])\n",
    "print(var[2:6:])\n",
    "print(var[2:6:2])\n",
    "print(var[-1::-1])"
   ]
  },
  {
   "cell_type": "code",
   "execution_count": 16,
   "id": "third-irrigation",
   "metadata": {
    "colab": {
     "base_uri": "https://localhost:8080/"
    },
    "id": "third-irrigation",
    "outputId": "90f3597a-810b-44ec-9691-e3cc77e9c675"
   },
   "outputs": [
    {
     "name": "stdout",
     "output_type": "stream",
     "text": [
      "0\n",
      "3\n",
      "3\n",
      "2\n",
      "True\n",
      "False\n"
     ]
    }
   ],
   "source": [
    "print(var.count('0'))\n",
    "print(var.count('l'))\n",
    "print('lololo'.count('lo'))\n",
    "print(var.index('l'))\n",
    "print(var.startswith('h'))\n",
    "print(var.startswith('o'))"
   ]
  },
  {
   "cell_type": "markdown",
   "id": "muslim-fitting",
   "metadata": {
    "id": "muslim-fitting"
   },
   "source": [
    "More can be found at https://www.w3schools.com/python/python_ref_string.asp"
   ]
  },
  {
   "cell_type": "markdown",
   "id": "alike-qatar",
   "metadata": {
    "id": "alike-qatar"
   },
   "source": [
    "#### 3.4 Boolean"
   ]
  },
  {
   "cell_type": "code",
   "execution_count": 17,
   "id": "twenty-simpson",
   "metadata": {
    "colab": {
     "base_uri": "https://localhost:8080/"
    },
    "id": "twenty-simpson",
    "outputId": "818557f2-1805-47fc-d231-a5f288793f42"
   },
   "outputs": [
    {
     "data": {
      "text/plain": [
       "(True, False)"
      ]
     },
     "execution_count": 17,
     "metadata": {},
     "output_type": "execute_result"
    }
   ],
   "source": [
    "True, False"
   ]
  },
  {
   "cell_type": "code",
   "execution_count": 18,
   "id": "recreational-hamilton",
   "metadata": {
    "colab": {
     "base_uri": "https://localhost:8080/"
    },
    "id": "recreational-hamilton",
    "outputId": "b32978c1-a554-4510-9e1c-6caad19fa3bb"
   },
   "outputs": [
    {
     "data": {
      "text/plain": [
       "(2.4, 3.4)"
      ]
     },
     "execution_count": 18,
     "metadata": {},
     "output_type": "execute_result"
    }
   ],
   "source": [
    "a,b"
   ]
  },
  {
   "cell_type": "code",
   "execution_count": 19,
   "id": "attempted-diploma",
   "metadata": {
    "colab": {
     "base_uri": "https://localhost:8080/"
    },
    "id": "attempted-diploma",
    "outputId": "356d29b0-792c-4783-b74a-01cc979746da"
   },
   "outputs": [
    {
     "data": {
      "text/plain": [
       "False"
      ]
     },
     "execution_count": 19,
     "metadata": {},
     "output_type": "execute_result"
    }
   ],
   "source": [
    "a == b"
   ]
  },
  {
   "cell_type": "code",
   "execution_count": 20,
   "id": "incorrect-sixth",
   "metadata": {
    "colab": {
     "base_uri": "https://localhost:8080/"
    },
    "id": "incorrect-sixth",
    "outputId": "f879ec4e-88a3-4b2f-ee19-197228093438"
   },
   "outputs": [
    {
     "data": {
      "text/plain": [
       "True"
      ]
     },
     "execution_count": 20,
     "metadata": {},
     "output_type": "execute_result"
    }
   ],
   "source": [
    "a < b"
   ]
  },
  {
   "cell_type": "code",
   "execution_count": 21,
   "id": "indonesian-solution",
   "metadata": {
    "colab": {
     "base_uri": "https://localhost:8080/"
    },
    "id": "indonesian-solution",
    "outputId": "0667b849-9d2f-44df-ac3b-4ebea88684fe"
   },
   "outputs": [
    {
     "data": {
      "text/plain": [
       "False"
      ]
     },
     "execution_count": 21,
     "metadata": {},
     "output_type": "execute_result"
    }
   ],
   "source": [
    "a >= b"
   ]
  },
  {
   "cell_type": "markdown",
   "id": "announced-reason",
   "metadata": {
    "id": "announced-reason"
   },
   "source": [
    "### 4 Lists, Sets, Tuples, Dictionaries"
   ]
  },
  {
   "cell_type": "markdown",
   "id": "fabulous-manor",
   "metadata": {
    "id": "fabulous-manor"
   },
   "source": [
    "#### 4.1 Lists\n",
    "\n",
    "1. Lists are created using square brackets.\n",
    "\n",
    "2. List items are ordered, changeable, and allow duplicate values.\n",
    "\n",
    "3. List items are indexed, the first item has index [0], the second item has index [1] etc. Indexes are inclusive from the start, exclusive at the end.\n",
    "\n",
    "4. Ordered means that the items have a defined order, and that order will not change. There are ways to change the order but this is done through list methods.\n",
    "\n",
    "5. Lists are changeable, meaning that we can change, add, and remove items in a list after it has been created.\n",
    "\n",
    "6. Lists can have items with the same value and can contain items of any data type - even other lists."
   ]
  },
  {
   "cell_type": "code",
   "execution_count": 22,
   "id": "expanded-presence",
   "metadata": {
    "colab": {
     "base_uri": "https://localhost:8080/"
    },
    "id": "expanded-presence",
    "outputId": "96a001ff-06e4-415c-e9d5-6d375954f657"
   },
   "outputs": [
    {
     "name": "stdout",
     "output_type": "stream",
     "text": [
      "[1, 2, 3] <class 'list'>\n",
      "['a', 'b'] 2\n",
      "[1.4, True, 'orange']\n",
      "[[1, 2, 3], ['a', 'b'], [1.4, True, 'orange']]\n"
     ]
    }
   ],
   "source": [
    "my_list = [1,2,3]\n",
    "my_list_2 = ['a','b']\n",
    "my_list_3 = [1.4,True,'orange']\n",
    "all_lists = [my_list,my_list_2,my_list_3]\n",
    "\n",
    "print(my_list,type(my_list))\n",
    "print(my_list_2,len(my_list_2))\n",
    "print(my_list_3)\n",
    "print(all_lists)"
   ]
  },
  {
   "cell_type": "code",
   "execution_count": 23,
   "id": "disturbed-executive",
   "metadata": {
    "colab": {
     "base_uri": "https://localhost:8080/"
    },
    "id": "disturbed-executive",
    "outputId": "aed82868-0e5b-4192-f40b-cc14136bcc6f"
   },
   "outputs": [
    {
     "name": "stdout",
     "output_type": "stream",
     "text": [
      "3\n",
      "1\n",
      "[1]\n",
      "[1, 2, 4]\n"
     ]
    }
   ],
   "source": [
    "print(len(my_list))\n",
    "print(my_list[0])\n",
    "print(my_list[:1])\n",
    "\n",
    "my_list[2] = 4\n",
    "print(my_list)\n",
    "#my_list[0:2] = 1 - wrong\n",
    "my_list[0:2] = [0,4]\n",
    "#print(my_list[3]) - wrong\n"
   ]
  },
  {
   "cell_type": "code",
   "execution_count": 24,
   "id": "chronic-native",
   "metadata": {
    "colab": {
     "base_uri": "https://localhost:8080/"
    },
    "id": "chronic-native",
    "outputId": "1b4e8c41-1156-4ee3-9a05-b84daa592d5e"
   },
   "outputs": [
    {
     "name": "stdout",
     "output_type": "stream",
     "text": [
      "[4]\n"
     ]
    }
   ],
   "source": [
    "# Interesting property\n",
    "print(my_list[2:6])"
   ]
  },
  {
   "cell_type": "code",
   "execution_count": 25,
   "id": "previous-stone",
   "metadata": {
    "colab": {
     "base_uri": "https://localhost:8080/"
    },
    "id": "previous-stone",
    "outputId": "85c7807b-0881-401e-8a86-0c9f27575489"
   },
   "outputs": [
    {
     "name": "stdout",
     "output_type": "stream",
     "text": [
      "[4, 4, 0]\n"
     ]
    }
   ],
   "source": [
    "print(my_list[-1::-1])"
   ]
  },
  {
   "cell_type": "code",
   "execution_count": 26,
   "id": "proprietary-snake",
   "metadata": {
    "colab": {
     "base_uri": "https://localhost:8080/"
    },
    "id": "proprietary-snake",
    "outputId": "d574592c-7210-429c-f86f-5b272191c4cf"
   },
   "outputs": [
    {
     "name": "stdout",
     "output_type": "stream",
     "text": [
      "[0, 4, 4, 4]\n"
     ]
    }
   ],
   "source": [
    "my_list.append(4) # adds element to the end\n",
    "print(my_list)"
   ]
  },
  {
   "cell_type": "code",
   "execution_count": 27,
   "id": "induced-amount",
   "metadata": {
    "colab": {
     "base_uri": "https://localhost:8080/"
    },
    "id": "induced-amount",
    "outputId": "6bc8e980-f815-4ee9-83e6-8010b636a839"
   },
   "outputs": [
    {
     "data": {
      "text/plain": [
       "[-3, 0, 4, 4, 4]"
      ]
     },
     "execution_count": 27,
     "metadata": {},
     "output_type": "execute_result"
    }
   ],
   "source": [
    "my_list.insert(0,-3) # insert at specified position\n",
    "my_list"
   ]
  },
  {
   "cell_type": "code",
   "execution_count": 28,
   "id": "incredible-butterfly",
   "metadata": {
    "colab": {
     "base_uri": "https://localhost:8080/"
    },
    "id": "incredible-butterfly",
    "outputId": "3ca4a45e-c2f8-427b-8d05-53e6922dc75b"
   },
   "outputs": [
    {
     "name": "stdout",
     "output_type": "stream",
     "text": [
      "[-3, 0, 4, 4]\n",
      "[0, 4, 4]\n",
      "[] []\n",
      "['a', 'b'] ['b', 'a']\n"
     ]
    }
   ],
   "source": [
    "my_list.pop() # by default removes last element\n",
    "print(my_list)\n",
    "my_list.pop(0) # remove element at specified index\n",
    "print(my_list)\n",
    "my_list_new = my_list\n",
    "my_list.clear() # clears list\n",
    "print(my_list_new,my_list)\n",
    "my_list_new = my_list_2.copy() # returns a copy of the list - correct way\n",
    "my_list_2.reverse() # reverses a list\n",
    "print(my_list_new,my_list_2)\n"
   ]
  },
  {
   "cell_type": "code",
   "execution_count": 29,
   "id": "accessible-currency",
   "metadata": {
    "colab": {
     "base_uri": "https://localhost:8080/"
    },
    "id": "accessible-currency",
    "outputId": "59f50bd0-21c0-4235-f070-99fd0bc43803"
   },
   "outputs": [
    {
     "name": "stdout",
     "output_type": "stream",
     "text": [
      "0\n",
      "2\n",
      "[1, 1, 2, 3, 4, 5]\n",
      "None\n"
     ]
    }
   ],
   "source": [
    "print(my_list_new.index('a')) # finds element within a list and returns the index of it returns error otherwise\n",
    "print([1,2,3,4,5,1].count(1)) #returns number of occurences within a list\n",
    "my_list = [1,2,3,4,5,1]\n",
    "my_list.sort()# sorts the list\n",
    "print(my_list)\n",
    "print(my_list.sort())"
   ]
  },
  {
   "cell_type": "markdown",
   "id": "micro-compilation",
   "metadata": {
    "id": "micro-compilation"
   },
   "source": [
    "#### Honorable mentions"
   ]
  },
  {
   "cell_type": "code",
   "execution_count": 30,
   "id": "related-trash",
   "metadata": {
    "colab": {
     "base_uri": "https://localhost:8080/",
     "height": 35
    },
    "id": "related-trash",
    "outputId": "929a1055-d0b7-4a17-dc27-dc3b7474ac2a",
    "scrolled": true
   },
   "outputs": [
    {
     "data": {
      "text/plain": [
       "'a b'"
      ]
     },
     "execution_count": 30,
     "metadata": {},
     "output_type": "execute_result"
    }
   ],
   "source": [
    "' '.join(my_list_new) # works with strings only"
   ]
  },
  {
   "cell_type": "markdown",
   "id": "prescription-eight",
   "metadata": {
    "id": "prescription-eight"
   },
   "source": [
    "Some more functions can be found at\n",
    "\n",
    "https://www.w3schools.com/python/python_ref_list.asp\n",
    "\n",
    "And of course google is your friend for any specific cases!"
   ]
  },
  {
   "cell_type": "markdown",
   "id": "acting-convenience",
   "metadata": {
    "id": "acting-convenience"
   },
   "source": [
    "#### 4.2 Tuples\n",
    "\n",
    "A tuple is a collection which is ordered, indexed and unchangeable.\n",
    "\n",
    "Tuples are written with round brackets.\n",
    "\n",
    "Tuples are unchangeable, meaning that we cannot change, add or remove items after the tuple has been created. (immutable)\n"
   ]
  },
  {
   "cell_type": "code",
   "execution_count": 31,
   "id": "reliable-uruguay",
   "metadata": {
    "colab": {
     "base_uri": "https://localhost:8080/"
    },
    "id": "reliable-uruguay",
    "outputId": "df5ff9d6-5f35-4f05-a038-a972abeca270"
   },
   "outputs": [
    {
     "name": "stdout",
     "output_type": "stream",
     "text": [
      "('apple', 1, 'cherry', 2, 'cherry')\n"
     ]
    }
   ],
   "source": [
    "my_tuple = (\"apple\", 1, \"cherry\", 2, \"cherry\")\n",
    "print(my_tuple)"
   ]
  },
  {
   "cell_type": "code",
   "execution_count": 32,
   "id": "consistent-climate",
   "metadata": {
    "colab": {
     "base_uri": "https://localhost:8080/"
    },
    "id": "consistent-climate",
    "outputId": "00b6e774-b673-460f-e98a-5123b174d1f3"
   },
   "outputs": [
    {
     "name": "stdout",
     "output_type": "stream",
     "text": [
      "<class 'tuple'>\n",
      "<class 'int'>\n"
     ]
    }
   ],
   "source": [
    "my_tuple = (2,)\n",
    "print(type(my_tuple))\n",
    "\n",
    "#NOT a tuple\n",
    "my_tuple = (2)\n",
    "print(type(my_tuple))"
   ]
  },
  {
   "cell_type": "code",
   "execution_count": 33,
   "id": "constant-aquarium",
   "metadata": {
    "colab": {
     "base_uri": "https://localhost:8080/"
    },
    "id": "constant-aquarium",
    "outputId": "66b41a9b-412e-441c-8aa0-952dcc001128"
   },
   "outputs": [
    {
     "name": "stdout",
     "output_type": "stream",
     "text": [
      "[2, 4]\n"
     ]
    },
    {
     "data": {
      "text/plain": [
       "(2, 4)"
      ]
     },
     "execution_count": 33,
     "metadata": {},
     "output_type": "execute_result"
    }
   ],
   "source": [
    "my_tuple = (2,4)\n",
    "print(list(my_tuple))\n",
    "\n",
    "tuple(list(my_tuple))"
   ]
  },
  {
   "cell_type": "code",
   "execution_count": 34,
   "id": "manual-sussex",
   "metadata": {
    "colab": {
     "base_uri": "https://localhost:8080/"
    },
    "id": "manual-sussex",
    "outputId": "b1ab6032-371d-4bdc-cf22-30ed6923a42d"
   },
   "outputs": [
    {
     "name": "stdout",
     "output_type": "stream",
     "text": [
      "3\n"
     ]
    },
    {
     "data": {
      "text/plain": [
       "3"
      ]
     },
     "execution_count": 34,
     "metadata": {},
     "output_type": "execute_result"
    }
   ],
   "source": [
    "print((2,2,2,4,4).count(2))\n",
    "(2,2,2,4,4).index(4)"
   ]
  },
  {
   "cell_type": "markdown",
   "id": "decreased-disposition",
   "metadata": {
    "id": "decreased-disposition"
   },
   "source": [
    "#### 4.3 Sets\n",
    "\n",
    "A set is a collection which is unordered, unchangeable and unindexed.\n",
    "1. Sets cannot have two items with the same value.\n",
    "\n",
    "2. Set items can appear in a different order every time you use them, and cannot be referred to by index or key.\n",
    "\n",
    "3. Set items are unchangeable, but you can remove items and add new items. But you cannot change existing items using the index as in lists for example"
   ]
  },
  {
   "cell_type": "code",
   "execution_count": 35,
   "id": "novel-denver",
   "metadata": {
    "colab": {
     "base_uri": "https://localhost:8080/"
    },
    "id": "novel-denver",
    "outputId": "9ca5519c-234b-43f3-9347-05ee2a4c58fb"
   },
   "outputs": [
    {
     "name": "stdout",
     "output_type": "stream",
     "text": [
      "{1, 2, 3, 4, 5, 6, 'a'}\n"
     ]
    }
   ],
   "source": [
    "my_set = {1,2,3,3,4,5,6,'a'}\n",
    "print(my_set)\n",
    "#print(my_set[0]) # wrong"
   ]
  },
  {
   "cell_type": "code",
   "execution_count": 36,
   "id": "robust-onion",
   "metadata": {
    "colab": {
     "base_uri": "https://localhost:8080/"
    },
    "id": "robust-onion",
    "outputId": "e742275f-6a1e-4cb4-c86d-9a6839bd450b"
   },
   "outputs": [
    {
     "name": "stdout",
     "output_type": "stream",
     "text": [
      "7\n"
     ]
    }
   ],
   "source": [
    "print(len(my_set))"
   ]
  },
  {
   "cell_type": "code",
   "execution_count": 37,
   "id": "korean-humanity",
   "metadata": {
    "colab": {
     "base_uri": "https://localhost:8080/"
    },
    "id": "korean-humanity",
    "outputId": "8af177fe-7428-45e1-a88f-a3d4ef531332"
   },
   "outputs": [
    {
     "name": "stdout",
     "output_type": "stream",
     "text": [
      "{1, 2, 3, 4, 5, 6, 'b', 'a'}\n",
      "{4, 5, 6, 'a', 'b'}\n",
      "{1, 2, 3}\n",
      "{1, 2, 3, 4, 5, 6, 'a', 'b'}\n",
      "False\n",
      "True\n",
      "{2, 3, 4, 5, 6, 'b', 'a'}\n",
      "{2, 3, 4, 6, 'b', 'a'}\n"
     ]
    }
   ],
   "source": [
    "my_set.add('b')\n",
    "print(my_set)\n",
    "my_set_2 = {1,2,3}\n",
    "print(my_set.difference(my_set_2)) # returns the elements that differ between the two sets\n",
    "print(my_set.intersection(my_set_2)) # returns the common elements between the two sets\n",
    "print(my_set.union(my_set_2)) # returns the union of the two sets\n",
    "\n",
    "print(my_set.issubset(my_set_2))\n",
    "print(my_set_2.issubset(my_set))\n",
    "\n",
    "my_set.pop()\n",
    "print(my_set)\n",
    "my_set.remove(5)\n",
    "print(my_set)"
   ]
  },
  {
   "cell_type": "markdown",
   "id": "intimate-principal",
   "metadata": {
    "id": "intimate-principal"
   },
   "source": [
    "More can be found at\n",
    "https://www.w3schools.com/python/python_ref_set.asp"
   ]
  },
  {
   "cell_type": "markdown",
   "id": "endless-egyptian",
   "metadata": {
    "id": "endless-egyptian"
   },
   "source": [
    "#### 4.4 Dictionaries\n",
    "\n",
    "Dictionaries are used to store data values in key:value pairs.\n",
    "\n",
    "A dictionary is a collection which is ordered (from 3.7 and onwards), changeable and do not allow duplicates.\n",
    "\n",
    "Dictionaries are written with curly brackets, and have keys and values.\n",
    "\n",
    "Dictionaries are changeable, meaning that we can change, add or remove items after the dictionary has been created.\n",
    "\n",
    "Dictionaries cannot have two items with the same key.\n",
    "\n",
    "Duplicate values will overwrite existing values\n"
   ]
  },
  {
   "cell_type": "code",
   "execution_count": 38,
   "id": "massive-emperor",
   "metadata": {
    "colab": {
     "base_uri": "https://localhost:8080/"
    },
    "id": "massive-emperor",
    "outputId": "4ea51aaa-2b9a-43b0-fda0-d9a3f1ed4f04"
   },
   "outputs": [
    {
     "name": "stdout",
     "output_type": "stream",
     "text": [
      "{'year': 1997, 'month': 'August', 'day': 9}\n"
     ]
    }
   ],
   "source": [
    "my_dict = {\n",
    "    'year' : 1997,\n",
    "    'month': 'September',\n",
    "    'month': 'August',\n",
    "    'day': 9,\n",
    "}\n",
    "print(my_dict)"
   ]
  },
  {
   "cell_type": "code",
   "execution_count": 39,
   "id": "focused-procurement",
   "metadata": {
    "colab": {
     "base_uri": "https://localhost:8080/"
    },
    "id": "focused-procurement",
    "outputId": "179a6946-6102-48a6-ad8e-a458db3bd401"
   },
   "outputs": [
    {
     "name": "stdout",
     "output_type": "stream",
     "text": [
      "1997\n"
     ]
    }
   ],
   "source": [
    "print(my_dict['year'])\n",
    "#print(my_dict[1997]) wrong\n",
    "\n"
   ]
  },
  {
   "cell_type": "code",
   "execution_count": 40,
   "id": "dying-roberts",
   "metadata": {
    "colab": {
     "base_uri": "https://localhost:8080/"
    },
    "id": "dying-roberts",
    "outputId": "8a81cd93-278e-4050-a6f6-0a5ca2ef4de8"
   },
   "outputs": [
    {
     "name": "stdout",
     "output_type": "stream",
     "text": [
      "dict_items([('year', 1997), ('month', 'August'), ('day', 9)])\n",
      "August\n",
      "dict_keys(['year', 'month', 'day'])\n",
      "dict_values([1997, 'August', 9])\n",
      "August\n",
      "{'year': 1997, 'day': 12, 'birthday': True}\n",
      "{'year': 1997, 'day': 12, 'birthday': True, 'month': 'August', 'color': 'black'}\n"
     ]
    }
   ],
   "source": [
    "print(my_dict.items()) # list of tuples k:v pairs\n",
    "print(my_dict.get('month')) # returns value of specified key\n",
    "print(my_dict.keys()) # list of keys\n",
    "print(my_dict.values()) # list of values\n",
    "print(my_dict.pop('month')) # removes specified k:v pair\n",
    "\n",
    "my_dict['day'] = 12 # change element\n",
    "my_dict['birthday'] = True # add element\n",
    "print(my_dict)\n",
    "\n",
    "my_dict.update({'month':'August','color':'black'}) # add elements\n",
    "print(my_dict)"
   ]
  },
  {
   "cell_type": "code",
   "execution_count": 41,
   "id": "collected-christian",
   "metadata": {
    "colab": {
     "base_uri": "https://localhost:8080/"
    },
    "id": "collected-christian",
    "outputId": "556cf318-38a2-4219-e041-1dd2883fe788"
   },
   "outputs": [
    {
     "name": "stdout",
     "output_type": "stream",
     "text": [
      "dict_values([1997, 12, True, 'August', 'black'])\n",
      "0\n",
      "year\n"
     ]
    }
   ],
   "source": [
    "# find key from value - if exists\n",
    "vals = my_dict.values()\n",
    "print(vals)\n",
    "index = list(vals).index(1997)\n",
    "print(index)\n",
    "print(list(my_dict.keys())[index])"
   ]
  },
  {
   "cell_type": "code",
   "execution_count": 42,
   "id": "relative-terrorist",
   "metadata": {
    "colab": {
     "base_uri": "https://localhost:8080/",
     "height": 35
    },
    "id": "relative-terrorist",
    "outputId": "cf4d82f7-4c9d-4abc-cbc4-f5e08896ed75"
   },
   "outputs": [
    {
     "data": {
      "text/plain": [
       "'year'"
      ]
     },
     "execution_count": 42,
     "metadata": {},
     "output_type": "execute_result"
    }
   ],
   "source": [
    "#or\n",
    "list(my_dict.keys())[list(my_dict.values()).index(1997)]"
   ]
  },
  {
   "cell_type": "markdown",
   "id": "extended-blade",
   "metadata": {
    "id": "extended-blade"
   },
   "source": [
    "More can be found at\n",
    "https://www.w3schools.com/python/python_ref_dictionary.asp"
   ]
  },
  {
   "cell_type": "markdown",
   "id": "remarkable-cleaning",
   "metadata": {
    "id": "remarkable-cleaning"
   },
   "source": [
    "### 5 For loops, While loops, If statements"
   ]
  },
  {
   "cell_type": "markdown",
   "id": "saved-synthesis",
   "metadata": {
    "id": "saved-synthesis"
   },
   "source": [
    "#### 5.1 If Statements\n",
    "\n",
    "Python supports the usual logical conditions from mathematics:\n",
    "\n",
    "1. Equals: a == b\n",
    "2. Not Equals: a != b\n",
    "3. Less than: a < b\n",
    "4. Less than or equal to: a <= b\n",
    "5. Greater than: a > b\n",
    "6. Greater than or equal to: a >= b"
   ]
  },
  {
   "cell_type": "code",
   "execution_count": 43,
   "id": "negative-platform",
   "metadata": {
    "colab": {
     "base_uri": "https://localhost:8080/"
    },
    "id": "negative-platform",
    "outputId": "268978de-81ee-4005-9cce-c81ffeee6886"
   },
   "outputs": [
    {
     "name": "stdout",
     "output_type": "stream",
     "text": [
      "5 < 10\n"
     ]
    }
   ],
   "source": [
    "a,b = 5,10 # run a few examples\n",
    "\n",
    "\n",
    "if a>b:\n",
    "    print(a,'>',b)\n",
    "elif a<b:\n",
    "    print(a,'<',b)\n",
    "else:\n",
    "    print(a, 'equals',b)"
   ]
  },
  {
   "cell_type": "code",
   "execution_count": 44,
   "id": "western-facial",
   "metadata": {
    "colab": {
     "base_uri": "https://localhost:8080/"
    },
    "id": "western-facial",
    "outputId": "c542e1b6-c988-4c76-e380-88324a1f1ac1"
   },
   "outputs": [
    {
     "name": "stdout",
     "output_type": "stream",
     "text": [
      "inside\n",
      "second\n"
     ]
    }
   ],
   "source": [
    "a,b,c = 5,10,5\n",
    "if a<b:\n",
    "    if a==c:\n",
    "        print('inside')\n",
    "    else:\n",
    "        print('nothing')\n",
    "if a==c:\n",
    "    print('second')\n",
    "else:\n",
    "    print('outside')"
   ]
  },
  {
   "cell_type": "code",
   "execution_count": 45,
   "id": "marked-picture",
   "metadata": {
    "colab": {
     "base_uri": "https://localhost:8080/"
    },
    "id": "marked-picture",
    "outputId": "498f4abe-9be6-4c56-d8de-a64c4119ead7"
   },
   "outputs": [
    {
     "name": "stdout",
     "output_type": "stream",
     "text": [
      "nothing\n",
      "outside\n"
     ]
    }
   ],
   "source": [
    "a,b,c = 5,10,5\n",
    "if a<b:\n",
    "    if a!=c:\n",
    "        print('inside')\n",
    "    else:\n",
    "        print('nothing')\n",
    "if a!=c:\n",
    "    print('second')\n",
    "else:\n",
    "    print('outside')"
   ]
  },
  {
   "cell_type": "code",
   "execution_count": 46,
   "id": "successful-agent",
   "metadata": {
    "colab": {
     "base_uri": "https://localhost:8080/"
    },
    "id": "successful-agent",
    "outputId": "c9bb0af4-d457-4b9e-bf5f-2ed5af05467a"
   },
   "outputs": [
    {
     "name": "stdout",
     "output_type": "stream",
     "text": [
      "hi\n"
     ]
    }
   ],
   "source": [
    "print('hi') if a<b else print('hello')"
   ]
  },
  {
   "cell_type": "markdown",
   "id": "sustained-latest",
   "metadata": {
    "id": "sustained-latest"
   },
   "source": [
    "#### 5.2 While Loops\n",
    "\n",
    "With the while loop we can execute a set of statements as long as a condition is true.\n",
    "\n",
    "P.S. Loops in general can be used to loop over iterables such as lists,sets, dictionaries, arrays, dataframes etc."
   ]
  },
  {
   "cell_type": "code",
   "execution_count": 47,
   "id": "painful-syndicate",
   "metadata": {
    "colab": {
     "base_uri": "https://localhost:8080/"
    },
    "id": "painful-syndicate",
    "outputId": "d1a7abea-3eea-40b9-af05-52646b43f980"
   },
   "outputs": [
    {
     "name": "stdout",
     "output_type": "stream",
     "text": [
      "1\n",
      "2\n",
      "3\n",
      "4\n",
      "5\n"
     ]
    }
   ],
   "source": [
    "i = 1\n",
    "while i<6:\n",
    "    print(i)\n",
    "    i+=1"
   ]
  },
  {
   "cell_type": "code",
   "execution_count": 48,
   "id": "compatible-nursery",
   "metadata": {
    "colab": {
     "base_uri": "https://localhost:8080/"
    },
    "id": "compatible-nursery",
    "outputId": "2c08ec1c-d990-4e8f-fabc-dc280d28385c"
   },
   "outputs": [
    {
     "name": "stdout",
     "output_type": "stream",
     "text": [
      "1\n",
      "2\n",
      "3\n"
     ]
    }
   ],
   "source": [
    "my_list = [1,2,3]\n",
    "i = 0\n",
    "while i<len(my_list):\n",
    "    print(my_list[i])\n",
    "    i+=1"
   ]
  },
  {
   "cell_type": "markdown",
   "id": "undefined-cutting",
   "metadata": {
    "id": "undefined-cutting"
   },
   "source": [
    "#### 5.2.1 Break, pass, continue"
   ]
  },
  {
   "cell_type": "code",
   "execution_count": 49,
   "id": "embedded-worship",
   "metadata": {
    "colab": {
     "base_uri": "https://localhost:8080/"
    },
    "id": "embedded-worship",
    "outputId": "aa04f279-451e-46d6-90ba-f1810c99b3ee"
   },
   "outputs": [
    {
     "name": "stdout",
     "output_type": "stream",
     "text": [
      "1\n",
      "2\n",
      "I dont do anything\n",
      "3\n",
      "I will jump two numbers\n",
      "5\n",
      "6\n",
      "We stop here\n"
     ]
    }
   ],
   "source": [
    "i = 1\n",
    "while i<=10:\n",
    "    print(i)\n",
    "    if i == 2:\n",
    "        print('I dont do anything')\n",
    "        pass\n",
    "    elif i == 3:\n",
    "        print('I will jump two numbers')\n",
    "        i+=2\n",
    "        continue # used to skip an iteration\n",
    "    elif i==6:\n",
    "        print('We stop here')\n",
    "        break # break out of the first outer loop\n",
    "\n",
    "    i+=1"
   ]
  },
  {
   "cell_type": "markdown",
   "id": "nonprofit-hamilton",
   "metadata": {
    "id": "nonprofit-hamilton"
   },
   "source": [
    "#### 5.3 For loops\n",
    "\n",
    "A for loop is used for iterating over a sequence (that is either a list, a tuple, a dictionary, a set, or a string).\n",
    "\n",
    "This is less like the for keyword in other programming languages, and works more like an iterator method as found in other object-orientated programming languages.\n",
    "\n",
    "With the for loop we can execute a set of statements, once for each item in a list, tuple, set etc."
   ]
  },
  {
   "cell_type": "code",
   "execution_count": 50,
   "id": "worldwide-group",
   "metadata": {
    "colab": {
     "base_uri": "https://localhost:8080/"
    },
    "id": "worldwide-group",
    "outputId": "9ebf4190-fdd3-4e39-be02-1a299333672b"
   },
   "outputs": [
    {
     "name": "stdout",
     "output_type": "stream",
     "text": [
      "1\n",
      "2\n",
      "3\n",
      "4\n",
      "5\n"
     ]
    }
   ],
   "source": [
    "my_list = [1,2,3,4,5]\n",
    "my_list_2 = ['apple','orange','kiwi']\n",
    "\n",
    "for element in my_list:\n",
    "    print(element)"
   ]
  },
  {
   "cell_type": "code",
   "execution_count": 51,
   "id": "contrary-niagara",
   "metadata": {
    "colab": {
     "base_uri": "https://localhost:8080/"
    },
    "id": "contrary-niagara",
    "outputId": "ba5de070-d550-44f0-c90c-8fb8fa3c5189"
   },
   "outputs": [
    {
     "name": "stdout",
     "output_type": "stream",
     "text": [
      "0\n",
      "1\n",
      "2\n",
      "3\n",
      "4\n",
      "5\n",
      "---\n",
      "2\n",
      "3\n",
      "4\n",
      "---\n",
      "2\n",
      "4\n",
      "6\n"
     ]
    }
   ],
   "source": [
    "for x in range(6):\n",
    "    print(x)\n",
    "print('---')\n",
    "for x in range(2,5):\n",
    "    print(x)\n",
    "print('---')\n",
    "for x in range(2,8,2):\n",
    "    print(x)"
   ]
  },
  {
   "cell_type": "code",
   "execution_count": 52,
   "id": "variable-grammar",
   "metadata": {
    "colab": {
     "base_uri": "https://localhost:8080/"
    },
    "id": "variable-grammar",
    "outputId": "09167753-cc63-4493-a674-6e7a8c8120f2"
   },
   "outputs": [
    {
     "name": "stdout",
     "output_type": "stream",
     "text": [
      "1 apple\n",
      "2 orange\n",
      "3 kiwi\n",
      "4 None\n",
      "5 None\n"
     ]
    }
   ],
   "source": [
    "from itertools import zip_longest\n",
    "for number,fruit in zip_longest(my_list,my_list_2):\n",
    "    print(number,fruit)"
   ]
  },
  {
   "cell_type": "code",
   "execution_count": 53,
   "id": "virtual-diameter",
   "metadata": {
    "colab": {
     "base_uri": "https://localhost:8080/"
    },
    "id": "virtual-diameter",
    "outputId": "f9259019-cd98-42a3-e90b-178b5ef2ea7f"
   },
   "outputs": [
    {
     "name": "stdout",
     "output_type": "stream",
     "text": [
      "['apple', 'orange', 'kiwi']\n"
     ]
    }
   ],
   "source": [
    "for fruit in my_list_2:\n",
    "    fruit = fruit.upper()\n",
    "print(my_list_2) ### doesn't work"
   ]
  },
  {
   "cell_type": "code",
   "execution_count": 54,
   "id": "executed-hundred",
   "metadata": {
    "colab": {
     "base_uri": "https://localhost:8080/"
    },
    "id": "executed-hundred",
    "outputId": "15768952-c9ec-4fa2-eabd-59f5e47e1873"
   },
   "outputs": [
    {
     "name": "stdout",
     "output_type": "stream",
     "text": [
      "0 apple\n",
      "1 orange\n",
      "2 kiwi\n",
      "['APPLE', 'ORANGE', 'KIWI']\n"
     ]
    }
   ],
   "source": [
    "for index,fruit in enumerate(my_list_2):\n",
    "    print(index,fruit)\n",
    "    my_list_2[index] = fruit.upper()\n",
    "print(my_list_2)"
   ]
  },
  {
   "cell_type": "code",
   "execution_count": 55,
   "id": "theoretical-treasurer",
   "metadata": {
    "colab": {
     "base_uri": "https://localhost:8080/"
    },
    "id": "theoretical-treasurer",
    "outputId": "0b424ff1-53ac-4ca1-d13d-3065ade48eb1"
   },
   "outputs": [
    {
     "data": {
      "text/plain": [
       "['apple', 'orange', 'kiwi']"
      ]
     },
     "execution_count": 55,
     "metadata": {},
     "output_type": "execute_result"
    }
   ],
   "source": [
    "# list comprehensions\n",
    "my_list_2 = [fruit.lower() for fruit in my_list_2]\n",
    "my_list_2"
   ]
  },
  {
   "cell_type": "markdown",
   "id": "demanding-rwanda",
   "metadata": {
    "id": "demanding-rwanda"
   },
   "source": [
    "### 6 Functions\n",
    "\n",
    "A function is a block of code which only runs when it is called.\n",
    "\n",
    "You can pass data, known as parameters, into a function.\n",
    "\n",
    "A function can return data as a result.\n",
    "\n",
    "Parameters can be of any type and they can have default values as we will showcase.\n",
    "\n",
    "Arguments without a default come before default arguments"
   ]
  },
  {
   "cell_type": "code",
   "execution_count": 56,
   "id": "photographic-ceremony",
   "metadata": {
    "colab": {
     "base_uri": "https://localhost:8080/"
    },
    "id": "photographic-ceremony",
    "outputId": "d1aae417-18c8-4775-efbf-0fe2e9940840"
   },
   "outputs": [
    {
     "name": "stdout",
     "output_type": "stream",
     "text": [
      "Hello World\n",
      "Hello world\n"
     ]
    }
   ],
   "source": [
    "def my_func():\n",
    "    print('Hello World')\n",
    "\n",
    "def my_func_2():\n",
    "    return 'Hello world'\n",
    "\n",
    "my_func()\n",
    "print(my_func_2())"
   ]
  },
  {
   "cell_type": "code",
   "execution_count": 57,
   "id": "patient-tribe",
   "metadata": {
    "colab": {
     "base_uri": "https://localhost:8080/"
    },
    "id": "patient-tribe",
    "outputId": "81780bae-5d66-4add-d784-e6420afbae95"
   },
   "outputs": [
    {
     "name": "stdout",
     "output_type": "stream",
     "text": [
      "Hi everyone\n",
      "Hi everyone\n",
      "Hi Codurance\n"
     ]
    }
   ],
   "source": [
    "def my_func(n,var = 'everyone'):\n",
    "    for i in range(n):\n",
    "        print('Hi',var)\n",
    "\n",
    "my_func(2)\n",
    "my_func(1,'Codurance')"
   ]
  },
  {
   "cell_type": "markdown",
   "id": "smooth-energy",
   "metadata": {
    "id": "smooth-energy"
   },
   "source": [
    "<strong>Create a function that returns the multiples of 4 if they exist in a list<strong>"
   ]
  },
  {
   "cell_type": "code",
   "execution_count": 58,
   "id": "qualified-ghost",
   "metadata": {
    "colab": {
     "base_uri": "https://localhost:8080/"
    },
    "id": "qualified-ghost",
    "outputId": "a6284f11-1a26-4f83-ae51-7ffc2d3bf0dd"
   },
   "outputs": [
    {
     "data": {
      "text/plain": [
       "[4, 8, 12]"
      ]
     },
     "execution_count": 58,
     "metadata": {},
     "output_type": "execute_result"
    }
   ],
   "source": [
    "def multiples_of_four_1(l):\n",
    "    multiples = []\n",
    "    for i in l:\n",
    "        if i%4==0:\n",
    "            multiples.append(i)\n",
    "        \n",
    "    return multiples\n",
    "\n",
    "multiples_of_four_1([1,2,3,4,5,6,7,8,12,13])"
   ]
  },
  {
   "cell_type": "code",
   "execution_count": 59,
   "id": "meaning-frost",
   "metadata": {
    "colab": {
     "base_uri": "https://localhost:8080/"
    },
    "id": "meaning-frost",
    "outputId": "21950468-0f25-46e5-ef45-cc84d9a1a136"
   },
   "outputs": [
    {
     "data": {
      "text/plain": [
       "[4, 8, 12]"
      ]
     },
     "execution_count": 59,
     "metadata": {},
     "output_type": "execute_result"
    }
   ],
   "source": [
    "def multiples_of_four_2(l):\n",
    "    return [i for i in l if i%4==0]\n",
    "\n",
    "multiples_of_four_2([1,2,3,4,5,6,7,8,12,13])"
   ]
  },
  {
   "cell_type": "code",
   "execution_count": 60,
   "id": "earlier-classics",
   "metadata": {
    "colab": {
     "base_uri": "https://localhost:8080/"
    },
    "id": "earlier-classics",
    "outputId": "6a4b57fe-b53c-4db7-d96d-75185d48b090"
   },
   "outputs": [
    {
     "data": {
      "text/plain": [
       "[4, 8, 12, 16.0]"
      ]
     },
     "execution_count": 60,
     "metadata": {},
     "output_type": "execute_result"
    }
   ],
   "source": [
    "def multiples_of_four_3(l):\n",
    "    return [i for i in l if (type(i)==int or type(i)==float) and i%4==0]\n",
    "\n",
    "multiples_of_four_3([1,2,3,4,5,6,7,8,12,13,'a',16.0])"
   ]
  },
  {
   "cell_type": "code",
   "execution_count": 61,
   "id": "athletic-newcastle",
   "metadata": {
    "colab": {
     "base_uri": "https://localhost:8080/"
    },
    "id": "athletic-newcastle",
    "outputId": "8542a747-3911-49d0-ffad-224b85a70b8a"
   },
   "outputs": [
    {
     "data": {
      "text/plain": [
       "[4, 8, 12, 16.0]"
      ]
     },
     "execution_count": 61,
     "metadata": {},
     "output_type": "execute_result"
    }
   ],
   "source": [
    "def multiples_of_four_4(l: list)->list:\n",
    "    '''\n",
    "    This function takes a list (iterable) as a parameter and returns a list of the elements that are multiples of four\n",
    "    '''\n",
    "    return [i for i in l if (type(i)==int or type(i)==float) and i%4==0]\n",
    "\n",
    "multiples_of_four_4([1,2,3,4,5,6,7,8,12,13,'a',16.0])"
   ]
  },
  {
   "cell_type": "markdown",
   "id": "neither-colleague",
   "metadata": {
    "id": "neither-colleague"
   },
   "source": [
    "### 7 filter, map, lambda\n",
    "\n",
    "1. The filter() function extracts elements from an iterable (list, tuple etc.) for which a function returns True. \n",
    "\n",
    "2. The map() function executes a specified function for each item in an iterable. The item is sent to the function as a parameter.\n",
    "\n",
    "These funcs return an iterator, so we have to turn them into a list again or iterate through the elements.\n",
    "Iterators allow lazy evaluation, only generating the next element of an iterable object when requested.\n"
   ]
  },
  {
   "cell_type": "code",
   "execution_count": 62,
   "id": "connected-chemistry",
   "metadata": {
    "colab": {
     "base_uri": "https://localhost:8080/"
    },
    "id": "connected-chemistry",
    "outputId": "8db8e786-584d-46c3-fa1b-cae74d4294f9"
   },
   "outputs": [
    {
     "name": "stdout",
     "output_type": "stream",
     "text": [
      "<filter object at 0x10b53b2b0>\n",
      "[4, 8, 12, 16.0]\n",
      "4\n",
      "8\n",
      "12\n",
      "16.0\n"
     ]
    }
   ],
   "source": [
    "def multiples_filter(check: int)-> bool:\n",
    "    '''\n",
    "    This function returns true if check is multiple of 4\n",
    "    '''\n",
    "    if (type(check) == int or type(check) == float) and check%4==0:\n",
    "        return True\n",
    "\n",
    "l = [1,2,3,4,5,6,7,8,12,13,'a',16.0]\n",
    "\n",
    "multiples = filter(multiples_filter,l)\n",
    "print(multiples)\n",
    "print(list(multiples))\n",
    "\n",
    "for i in filter(multiples_filter,l):\n",
    "    print(i)"
   ]
  },
  {
   "cell_type": "code",
   "execution_count": 63,
   "id": "alert-contamination",
   "metadata": {
    "colab": {
     "base_uri": "https://localhost:8080/"
    },
    "id": "alert-contamination",
    "outputId": "46798506-55de-438f-bd52-cdafcd6f349a"
   },
   "outputs": [
    {
     "name": "stdout",
     "output_type": "stream",
     "text": [
      "1.0\n",
      "1.4142135623730951\n",
      "1.7320508075688772\n"
     ]
    }
   ],
   "source": [
    "l = [1,2,3,4,5,6,7,8,12,13,16.0]\n",
    "\n",
    "squares =  map(sqrt,l)\n",
    "print(next(squares))\n",
    "print(next(squares))\n",
    "print(next(squares))"
   ]
  },
  {
   "cell_type": "markdown",
   "id": "juvenile-consultation",
   "metadata": {
    "id": "juvenile-consultation"
   },
   "source": [
    "A lambda function is a small anonymous function. A lambda function can take any number of arguments, but can only have one expression."
   ]
  },
  {
   "cell_type": "code",
   "execution_count": 64,
   "id": "american-synthesis",
   "metadata": {
    "colab": {
     "base_uri": "https://localhost:8080/"
    },
    "id": "american-synthesis",
    "outputId": "5151d778-8b59-4db1-aafe-74228d0da57f"
   },
   "outputs": [
    {
     "data": {
      "text/plain": [
       "[2, 4, 6, 8, 10, 12, 14, 16, 24, 26, 32.0]"
      ]
     },
     "execution_count": 64,
     "metadata": {},
     "output_type": "execute_result"
    }
   ],
   "source": [
    "multiply = lambda x: [i*2 for i in x]\n",
    "\n",
    "multiply(l)"
   ]
  },
  {
   "cell_type": "code",
   "execution_count": 65,
   "id": "posted-january",
   "metadata": {
    "colab": {
     "base_uri": "https://localhost:8080/"
    },
    "id": "posted-january",
    "outputId": "15751cb1-5c10-4409-a38d-0b81cf86ed3a"
   },
   "outputs": [
    {
     "data": {
      "text/plain": [
       "[3, 6, 9, 12, 15, 18, 21, 24, 36, 39, 48.0]"
      ]
     },
     "execution_count": 65,
     "metadata": {},
     "output_type": "execute_result"
    }
   ],
   "source": [
    "multiply = lambda x,y: [i*y for i in x]\n",
    "\n",
    "multiply(l,3)"
   ]
  },
  {
   "cell_type": "code",
   "execution_count": 66,
   "id": "strategic-capability",
   "metadata": {
    "colab": {
     "base_uri": "https://localhost:8080/"
    },
    "id": "strategic-capability",
    "outputId": "e1393ae2-a1e2-4c02-c1b9-043ed6e43962"
   },
   "outputs": [
    {
     "data": {
      "text/plain": [
       "[2, 4, 6, 8, 10, 12, 14, 16, 24, 26, 32.0]"
      ]
     },
     "execution_count": 66,
     "metadata": {},
     "output_type": "execute_result"
    }
   ],
   "source": [
    "list(map(lambda x: x*2,l))"
   ]
  },
  {
   "cell_type": "code",
   "execution_count": null,
   "id": "proved-death",
   "metadata": {
    "id": "proved-death"
   },
   "outputs": [],
   "source": []
  },
  {
   "cell_type": "markdown",
   "id": "cT92knltHJxv",
   "metadata": {
    "id": "cT92knltHJxv"
   },
   "source": [
    "# Object Oriented Programming"
   ]
  },
  {
   "cell_type": "markdown",
   "id": "beozZ9dnLi14",
   "metadata": {
    "id": "beozZ9dnLi14"
   },
   "source": [
    "**Object-oriented programming (OOP)** is a method of structuring a program by bundling related properties and behaviors into individual objects. In this tutorial, you’ll learn the basics of object-oriented programming in Python."
   ]
  },
  {
   "cell_type": "markdown",
   "id": "yHeP5MNcMaHe",
   "metadata": {
    "id": "yHeP5MNcMaHe"
   },
   "source": [
    "Let's see how we can declare a class with help of an example that contains an employee list.\n",
    "\n",
    "```\n",
    "kirk = [\"James Kirk\", 34, \"Captain\", 2265]\n",
    "spock = [\"Spock\", 35, \"Science Officer\", 2254]\n",
    "mccoy = [\"Leonard McCoy\", \"Chief Medical Officer\", 2266]\n",
    "```"
   ]
  },
  {
   "cell_type": "code",
   "execution_count": 67,
   "id": "Ruj5VEV_MenH",
   "metadata": {
    "id": "Ruj5VEV_MenH"
   },
   "outputs": [],
   "source": [
    "class Employee: # same as extending from object class Employee(Object):\n",
    "  pass\n"
   ]
  },
  {
   "cell_type": "markdown",
   "id": "T0NpPs8YMygB",
   "metadata": {
    "id": "T0NpPs8YMygB"
   },
   "source": [
    "This is the bare minumum you need to declare a class.\n",
    "\n",
    "> All classes if not extended from an explicit class are implicitly inherited from **Object** class"
   ]
  },
  {
   "cell_type": "markdown",
   "id": "iPLCRqdeNMLr",
   "metadata": {
    "id": "iPLCRqdeNMLr"
   },
   "source": [
    "Let's add some properties."
   ]
  },
  {
   "cell_type": "code",
   "execution_count": 68,
   "id": "hiFope9xNSuS",
   "metadata": {
    "id": "hiFope9xNSuS"
   },
   "outputs": [],
   "source": [
    "class Employee:\n",
    "  name: str\n",
    "  age: int\n",
    "  rank: str\n",
    "  employee_id: int\n",
    "\n",
    "  def __init__(self, name: str, age: int, rank: str, employee_id: int):\n",
    "    self.name = name\n",
    "    self.age = age\n",
    "    self.rank = rank\n",
    "    self.employee_id = employee_id"
   ]
  },
  {
   "cell_type": "markdown",
   "id": "gohx6yOvNcta",
   "metadata": {
    "id": "gohx6yOvNcta"
   },
   "source": [
    "We've now defined the properties on our class and initialised in constructor. However, there's another way to do this which we can see below."
   ]
  },
  {
   "cell_type": "code",
   "execution_count": 69,
   "id": "P0dGdxOMNyXl",
   "metadata": {
    "id": "P0dGdxOMNyXl"
   },
   "outputs": [],
   "source": [
    "class Employee:\n",
    "  def __init__(self, name: str, age: int, rank: str, employee_id: int):\n",
    "    self.name = name\n",
    "    self.age = age\n",
    "    self.rank = rank\n",
    "    self.employee_id = employee_id"
   ]
  },
  {
   "cell_type": "markdown",
   "id": "4G_Ue78pOVaW",
   "metadata": {
    "id": "4G_Ue78pOVaW"
   },
   "source": [
    "Here the properties are initialised in the constructor method `__init__()`\n",
    "\n",
    "> This common practice in Python and the linters etc understand this very well.\n",
    "\n",
    "> Your IDE will also understand this."
   ]
  },
  {
   "cell_type": "markdown",
   "id": "JaGygeJYOr2x",
   "metadata": {
    "id": "JaGygeJYOr2x"
   },
   "source": [
    "As your employee class is a simple container to hold data. You can simplify the class a bit more using the `@dataclass` annotation provided by the standard library."
   ]
  },
  {
   "cell_type": "code",
   "execution_count": 70,
   "id": "x9NJeTUBPI0U",
   "metadata": {
    "id": "x9NJeTUBPI0U"
   },
   "outputs": [],
   "source": [
    "from dataclasses import dataclass\n",
    "\n",
    "@dataclass(init=True, frozen=True)\n",
    "class Employee:\n",
    "  name: str\n",
    "  age: int\n",
    "  rank: str\n",
    "  employee_id: int"
   ]
  },
  {
   "cell_type": "markdown",
   "id": "d9Im5gapPTR2",
   "metadata": {
    "id": "d9Im5gapPTR2"
   },
   "source": [
    "We add the dataclass annotation and also provide some options to simplify some boilerplate.\n",
    "\n",
    "> `init=True` generates a constructor behind the scenes \n",
    "> `frozen=True` make this immutable"
   ]
  },
  {
   "cell_type": "markdown",
   "id": "qBOQEl1DQIkd",
   "metadata": {
    "id": "qBOQEl1DQIkd"
   },
   "source": [
    "Let's see if we can now initialise our object with some employee details.\n",
    "\n"
   ]
  },
  {
   "cell_type": "code",
   "execution_count": 71,
   "id": "Vq_GW06xQRXG",
   "metadata": {
    "colab": {
     "base_uri": "https://localhost:8080/"
    },
    "id": "Vq_GW06xQRXG",
    "outputId": "f1ebc293-7492-4ef8-c96a-7e7ae1d1ef2b"
   },
   "outputs": [
    {
     "name": "stdout",
     "output_type": "stream",
     "text": [
      "James Kirk\n",
      "34\n",
      "Captain\n",
      "2265\n"
     ]
    }
   ],
   "source": [
    "# kirk = [\"James Kirk\", 34, \"Captain\", 2265]\n",
    "kirk: Employee = Employee(name=\"James Kirk\", age=34, rank=\"Captain\", employee_id=2265)\n",
    "\n",
    "print(kirk.name)\n",
    "print(kirk.age)\n",
    "print(kirk.rank)\n",
    "print(kirk.employee_id)"
   ]
  },
  {
   "cell_type": "markdown",
   "id": "C_h02Z5-Q3_W",
   "metadata": {
    "id": "C_h02Z5-Q3_W"
   },
   "source": [
    "Let's see frozen in action, if we try to modifiy kirk's name, we'll get an error."
   ]
  },
  {
   "cell_type": "code",
   "execution_count": 73,
   "id": "oK3X6gmIQvd1",
   "metadata": {
    "colab": {
     "base_uri": "https://localhost:8080/",
     "height": 201
    },
    "id": "oK3X6gmIQvd1",
    "outputId": "8195b8fc-e7c5-4454-b933-c6e9da8063be"
   },
   "outputs": [
    {
     "ename": "FrozenInstanceError",
     "evalue": "cannot assign to field 'name'",
     "output_type": "error",
     "traceback": [
      "\u001b[0;31m---------------------------------------------------------------------------\u001b[0m",
      "\u001b[0;31mFrozenInstanceError\u001b[0m                       Traceback (most recent call last)",
      "Cell \u001b[0;32mIn [73], line 1\u001b[0m\n\u001b[0;32m----> 1\u001b[0m \u001b[43mkirk\u001b[49m\u001b[38;5;241;43m.\u001b[39;49m\u001b[43mname\u001b[49m \u001b[38;5;241m=\u001b[39m \u001b[38;5;124m'\u001b[39m\u001b[38;5;124mspock\u001b[39m\u001b[38;5;124m'\u001b[39m\n",
      "File \u001b[0;32m<string>:4\u001b[0m, in \u001b[0;36m__setattr__\u001b[0;34m(self, name, value)\u001b[0m\n",
      "\u001b[0;31mFrozenInstanceError\u001b[0m: cannot assign to field 'name'"
     ]
    }
   ],
   "source": [
    "kirk.name = 'spock'"
   ]
  },
  {
   "cell_type": "markdown",
   "id": "YRS_X6B8RIbB",
   "metadata": {
    "id": "YRS_X6B8RIbB"
   },
   "source": [
    "## Instance Methods\n",
    "\n",
    "Instance methods are functions that are defined inside a class and can only be called from an instance of that class. Just like .__init__(), an instance method’s first parameter is always self."
   ]
  },
  {
   "cell_type": "code",
   "execution_count": 75,
   "id": "2U8E0TvyRUGE",
   "metadata": {
    "id": "2U8E0TvyRUGE"
   },
   "outputs": [],
   "source": [
    "from dataclasses import dataclass\n",
    "\n",
    "@dataclass(init=True, frozen=True)\n",
    "class Employee:\n",
    "  name: str\n",
    "  age: int\n",
    "  rank: str\n",
    "  employee_id: int\n",
    "\n",
    "  # Instance method\n",
    "  def description(self):\n",
    "    return f\"{self.name} is {self.age} years old\""
   ]
  },
  {
   "cell_type": "code",
   "execution_count": 76,
   "id": "LRcqrITZRd_0",
   "metadata": {
    "colab": {
     "base_uri": "https://localhost:8080/",
     "height": 35
    },
    "id": "LRcqrITZRd_0",
    "outputId": "08d7d81f-2f54-4b82-b137-3a0c90b0baba"
   },
   "outputs": [
    {
     "data": {
      "text/plain": [
       "'James Kirk is 34 years old'"
      ]
     },
     "execution_count": 76,
     "metadata": {},
     "output_type": "execute_result"
    }
   ],
   "source": [
    "kirk = Employee(name=\"James Kirk\", age=34, rank=\"Captain\", employee_id=2265)\n",
    "kirk.description()"
   ]
  },
  {
   "cell_type": "markdown",
   "id": "XfhVyS2AS9k3",
   "metadata": {
    "id": "XfhVyS2AS9k3"
   },
   "source": [
    "## Class methods\n",
    "\n",
    "A class method receives the class as implicit first argument, just like an instance method receives the instance.\n",
    "\n",
    "It can be called either on the class (e.g. C.f()) or on an instance (e.g. C().f()). The instance is ignored except for its class. If a class method is called for a derived class, the derived class object is passed as the implied first argument.\n",
    "\n",
    "Class methods are different from C++ or Java static methods. If you want those, see the **@staticmethod** builtin annotation."
   ]
  },
  {
   "cell_type": "code",
   "execution_count": 77,
   "id": "rWLL1kJGTD7O",
   "metadata": {
    "id": "rWLL1kJGTD7O"
   },
   "outputs": [
    {
     "data": {
      "text/plain": [
       "5"
      ]
     },
     "execution_count": 77,
     "metadata": {},
     "output_type": "execute_result"
    }
   ],
   "source": [
    "from dataclasses import dataclass\n",
    "\n",
    "@dataclass(init=True, frozen=True)\n",
    "class Employee:\n",
    "  name: str\n",
    "  age: int\n",
    "  rank: str\n",
    "  employee_id: int\n",
    "\n",
    "  # Instance method\n",
    "  def description(self):\n",
    "    return f\"{self.name} is {self.age} years old\"\n",
    "        \n",
    "  @classmethod\n",
    "  def get_five(cls): \n",
    "    return 5\n",
    "\n",
    "Employee.get_five()"
   ]
  },
  {
   "cell_type": "markdown",
   "id": "ByaWXcs0TmOy",
   "metadata": {
    "id": "ByaWXcs0TmOy"
   },
   "source": [
    "## Static Methods\n",
    "\n",
    "A static method does not receive an implicit first argument. \n",
    "\n",
    "It can be called either on the class (e.g. C.f()) or on an instance (e.g. C().f()). Both the class and the instance are ignored, and neither is passed implicitly as the first argument to the method.\n",
    "\n",
    "Static methods in Python are similar to those found in Java or C++. For a more advanced concept, see the classmethod builtin."
   ]
  },
  {
   "cell_type": "code",
   "execution_count": 78,
   "id": "LfVYdsGTTrn-",
   "metadata": {
    "id": "LfVYdsGTTrn-"
   },
   "outputs": [
    {
     "data": {
      "text/plain": [
       "5"
      ]
     },
     "execution_count": 78,
     "metadata": {},
     "output_type": "execute_result"
    }
   ],
   "source": [
    "from dataclasses import dataclass\n",
    "\n",
    "@dataclass(init=True, frozen=True)\n",
    "class Employee:\n",
    "  name: str\n",
    "  age: int\n",
    "  rank: str\n",
    "  employee_id: int\n",
    "\n",
    "  # Instance method\n",
    "  def description(self):\n",
    "    return f\"{self.name} is {self.age} years old\"\n",
    "        \n",
    "  @staticmethod\n",
    "  def get_five(): \n",
    "    return 5\n",
    "\n",
    "Employee.get_five()"
   ]
  },
  {
   "cell_type": "markdown",
   "id": "jQKWoFmbRk-p",
   "metadata": {
    "id": "jQKWoFmbRk-p"
   },
   "source": [
    "## Access Modifiers\n",
    "\n",
    "In Python, nothing is truly private However, the industry has adoprted some naming conventions to define hidden properties & methods.\n",
    "\n",
    "> protected uses single '_'\n",
    "\n",
    "> private uses double '__'"
   ]
  },
  {
   "cell_type": "markdown",
   "id": "xVZHhVrKSSNe",
   "metadata": {
    "id": "xVZHhVrKSSNe"
   },
   "source": [
    "### Public methods\n",
    "\n",
    "```python\n",
    "# Instance method\n",
    "  def description(self):\n",
    "    return f\"{self.name} is {self.age} years old\"\n",
    "```\n"
   ]
  },
  {
   "cell_type": "markdown",
   "id": "Wbsn8pmzS2EE",
   "metadata": {
    "id": "Wbsn8pmzS2EE"
   },
   "source": [
    "\n",
    "### Protected\n",
    "\n",
    "```python\n",
    "# Instance method\n",
    "def _description(self):\n",
    "  return f\"{self.name} is {self.age} years old\"\n",
    "```\n"
   ]
  },
  {
   "cell_type": "markdown",
   "id": "U9XnkpdES3fT",
   "metadata": {
    "id": "U9XnkpdES3fT"
   },
   "source": [
    "### Private\n",
    "\n",
    "```python\n",
    "# Instance method\n",
    "  def __description(self):\n",
    "    return f\"{self.name} is {self.age} years old\"\n",
    "```\n",
    "\n",
    "> `__init__()` method is an exception to the rules."
   ]
  },
  {
   "cell_type": "markdown",
   "id": "bBzLVpklXE1k",
   "metadata": {
    "id": "bBzLVpklXE1k"
   },
   "source": [
    "## Inheritance\n",
    "\n",
    "For the most part inheritance works the same way as in C++, Java or C#. \n"
   ]
  },
  {
   "cell_type": "code",
   "execution_count": 79,
   "id": "AHvGmRyJXLtD",
   "metadata": {
    "id": "AHvGmRyJXLtD"
   },
   "outputs": [],
   "source": [
    "class Animal:\n",
    "    def move(self):\n",
    "        pass\n",
    "\n",
    "class Dog(Animal):\n",
    "    def move(self):\n",
    "        print('Mammal')"
   ]
  },
  {
   "cell_type": "code",
   "execution_count": 80,
   "id": "ew3AaT8nsL5A",
   "metadata": {
    "colab": {
     "base_uri": "https://localhost:8080/"
    },
    "id": "ew3AaT8nsL5A",
    "outputId": "4987698c-4e54-42ab-a9b3-e86dfb9cf2f1"
   },
   "outputs": [
    {
     "name": "stdout",
     "output_type": "stream",
     "text": [
      "<class '__main__.Dog'>\n",
      "True\n",
      "True\n"
     ]
    }
   ],
   "source": [
    "d = Dog()\n",
    "print(type(d))\n",
    "print(isinstance(d, Dog))\n",
    "print(isinstance(d, Animal))"
   ]
  },
  {
   "cell_type": "code",
   "execution_count": 82,
   "id": "DADof8zXsbif",
   "metadata": {
    "colab": {
     "base_uri": "https://localhost:8080/"
    },
    "id": "DADof8zXsbif",
    "outputId": "371e8a59-4381-4224-e394-5fd846211208"
   },
   "outputs": [
    {
     "name": "stdout",
     "output_type": "stream",
     "text": [
      "Yes mate!\n"
     ]
    }
   ],
   "source": [
    "class Vehicle: \n",
    "  def move(self):\n",
    "    pass\n",
    "\n",
    "class Driveable:\n",
    "  def is_it_driveable(self):\n",
    "    return True\n",
    "\n",
    "class Car(Vehicle, Driveable):  \n",
    "  def move(self):\n",
    "    if self.is_it_driveable():\n",
    "      print('Yes mate!')\n",
    "\n",
    "car = Car()\n",
    "car.move()"
   ]
  },
  {
   "cell_type": "markdown",
   "id": "vSZDyoRQsmnM",
   "metadata": {
    "id": "vSZDyoRQsmnM"
   },
   "source": [
    "## Abstract Classes\n",
    "\n",
    "Abstract classes are classes that contain one or more abstract methods. An abstract method is a method that is declared, but contains no implementation."
   ]
  },
  {
   "cell_type": "code",
   "execution_count": 83,
   "id": "sgQnGBL0spE-",
   "metadata": {
    "colab": {
     "base_uri": "https://localhost:8080/",
     "height": 218
    },
    "id": "sgQnGBL0spE-",
    "outputId": "ff2adb9f-0140-4440-e639-a30ac3367a65"
   },
   "outputs": [
    {
     "ename": "TypeError",
     "evalue": "Can't instantiate abstract class UninstantiableABC with abstract method myMethod",
     "output_type": "error",
     "traceback": [
      "\u001b[0;31m---------------------------------------------------------------------------\u001b[0m",
      "\u001b[0;31mTypeError\u001b[0m                                 Traceback (most recent call last)",
      "Cell \u001b[0;32mIn [83], line 14\u001b[0m\n\u001b[1;32m     10\u001b[0m         \u001b[38;5;28;01mpass\u001b[39;00m\n\u001b[1;32m     13\u001b[0m a \u001b[38;5;241m=\u001b[39m InstantiableABC()\n\u001b[0;32m---> 14\u001b[0m b \u001b[38;5;241m=\u001b[39m \u001b[43mUninstantiableABC\u001b[49m\u001b[43m(\u001b[49m\u001b[43m)\u001b[49m\n",
      "\u001b[0;31mTypeError\u001b[0m: Can't instantiate abstract class UninstantiableABC with abstract method myMethod"
     ]
    }
   ],
   "source": [
    "from abc import ABC, abstractmethod\n",
    "\n",
    "class InstantiableABC(ABC):\n",
    "    def myMethod(self) -> None:\n",
    "        pass\n",
    "\n",
    "class UninstantiableABC(ABC):\n",
    "    @abstractmethod\n",
    "    def myMethod(self) -> None:\n",
    "        pass\n",
    "\n",
    "\n",
    "a = InstantiableABC()\n",
    "b = UninstantiableABC()"
   ]
  },
  {
   "cell_type": "markdown",
   "id": "Ax0kQcyMtFNb",
   "metadata": {
    "id": "Ax0kQcyMtFNb"
   },
   "source": [
    "> A class that is derived from an abstract class cannot be instantiated unless all of its abstract methods are overridden."
   ]
  },
  {
   "cell_type": "markdown",
   "id": "wL8CNTGxtKOx",
   "metadata": {
    "id": "wL8CNTGxtKOx"
   },
   "source": [
    "## Protocols (aka interfaces)\n",
    "\n"
   ]
  },
  {
   "cell_type": "code",
   "execution_count": 95,
   "id": "xlQJ0ERztU-y",
   "metadata": {
    "colab": {
     "base_uri": "https://localhost:8080/",
     "height": 374
    },
    "id": "xlQJ0ERztU-y",
    "outputId": "464f07b8-f0ea-4ba4-b5de-ec0e81c90a45"
   },
   "outputs": [
    {
     "ename": "AttributeError",
     "evalue": "'RunningHero' object has no attribute 'fly'",
     "output_type": "error",
     "traceback": [
      "\u001b[0;31m---------------------------------------------------------------------------\u001b[0m",
      "\u001b[0;31mAttributeError\u001b[0m                            Traceback (most recent call last)",
      "Cell \u001b[0;32mIn [95], line 35\u001b[0m\n\u001b[1;32m     32\u001b[0m   board\u001b[38;5;241m.\u001b[39mmake_fly(FlyingHero())\n\u001b[1;32m     33\u001b[0m   board\u001b[38;5;241m.\u001b[39mmake_fly(RunningHero())  \u001b[38;5;66;03m# <- Fails mypy type-checking!\u001b[39;00m\n\u001b[0;32m---> 35\u001b[0m \u001b[43mmain\u001b[49m\u001b[43m(\u001b[49m\u001b[43m)\u001b[49m\n",
      "Cell \u001b[0;32mIn [95], line 33\u001b[0m, in \u001b[0;36mmain\u001b[0;34m()\u001b[0m\n\u001b[1;32m     31\u001b[0m board \u001b[38;5;241m=\u001b[39m Board()\n\u001b[1;32m     32\u001b[0m board\u001b[38;5;241m.\u001b[39mmake_fly(FlyingHero())\n\u001b[0;32m---> 33\u001b[0m \u001b[43mboard\u001b[49m\u001b[38;5;241;43m.\u001b[39;49m\u001b[43mmake_fly\u001b[49m\u001b[43m(\u001b[49m\u001b[43mRunningHero\u001b[49m\u001b[43m(\u001b[49m\u001b[43m)\u001b[49m\u001b[43m)\u001b[49m\n",
      "Cell \u001b[0;32mIn [95], line 27\u001b[0m, in \u001b[0;36mBoard.make_fly\u001b[0;34m(self, obj)\u001b[0m\n\u001b[1;32m     25\u001b[0m \u001b[38;5;28;01mdef\u001b[39;00m \u001b[38;5;21mmake_fly\u001b[39m(\u001b[38;5;28mself\u001b[39m, obj: Flyer) \u001b[38;5;241m-\u001b[39m\u001b[38;5;241m>\u001b[39m \u001b[38;5;28;01mNone\u001b[39;00m:   \u001b[38;5;66;03m# <- Here's the magic\u001b[39;00m\n\u001b[1;32m     26\u001b[0m   \u001b[38;5;124;03m\"\"\"Make an object fly.\"\"\"\u001b[39;00m\n\u001b[0;32m---> 27\u001b[0m   \u001b[38;5;28;01mreturn\u001b[39;00m \u001b[43mobj\u001b[49m\u001b[38;5;241;43m.\u001b[39;49m\u001b[43mfly\u001b[49m()\n",
      "\u001b[0;31mAttributeError\u001b[0m: 'RunningHero' object has no attribute 'fly'"
     ]
    }
   ],
   "source": [
    "from typing import Protocol\n",
    "from abc import abstractmethod\n",
    "\n",
    "\n",
    "class Flyer(Protocol):\n",
    "    @abstractmethod\n",
    "    def fly(self) -> None:\n",
    "        \"\"\"A Flyer can fly\"\"\"\n",
    "        pass\n",
    "\n",
    "\n",
    "class FlyingHero(Flyer):\n",
    "    \"\"\"This hero can fly, which is BEAST.\"\"\"\n",
    "\n",
    "    def fly(self):\n",
    "        # Do some flying...\n",
    "        pass\n",
    "\n",
    "\n",
    "class RunningHero(Flyer):\n",
    "    \"\"\"This hero can run. Better than nothing!\"\"\"\n",
    "\n",
    "    def run(self):\n",
    "        # Run for your life!\n",
    "        pass\n",
    "\n",
    "\n",
    "class Board:\n",
    "    \"\"\"An imaginary game board that doesn't do anything.\"\"\"\n",
    "\n",
    "    def make_fly(self, obj: Flyer) -> None:  # <- Here's the magic\n",
    "        \"\"\"Make an object fly.\"\"\"\n",
    "        return obj.fly()\n",
    "\n",
    "\n",
    "def main() -> None:\n",
    "    board = Board()\n",
    "    board.make_fly(FlyingHero())\n",
    "    board.make_fly(RunningHero())  # <- Fails mypy type-checking!\n",
    "\n",
    "\n",
    "main()  # will error\n"
   ]
  },
  {
   "cell_type": "markdown",
   "id": "9fa49195",
   "metadata": {},
   "source": [
    "## Decorators\n",
    "\n",
    "A decorator in Python is any callable Python object that is used to modify a function or a class. A reference to a function \"func\" or a class \"C\" is passed to a decorator and the decorator returns a modified function or class. The modified functions or classes usually contain calls to the original function \"func\" or class \"C\".\n",
    "\n",
    "Notable examples:\n",
    "\n",
    "`@property` decorator: a pythonic way to use getters and computed setters in object-oriented programming. "
   ]
  },
  {
   "cell_type": "code",
   "execution_count": 97,
   "id": "c2b8b052",
   "metadata": {},
   "outputs": [
    {
     "name": "stdout",
     "output_type": "stream",
     "text": [
      "Getting value...\n",
      "37\n",
      "98.60000000000001\n"
     ]
    }
   ],
   "source": [
    "# Using @property decorator\n",
    "class Celsius:\n",
    "    def __init__(self, temperature: int=0) -> None:\n",
    "        self._temperature: int = temperature\n",
    "\n",
    "    @property\n",
    "    def fahrenheit(self) -> float:\n",
    "        return (float(self._temperature) * 1.8) + 32\n",
    "\n",
    "    @property\n",
    "    def celsius(self) -> float:\n",
    "        print(\"Getting value...\")\n",
    "        return self._temperature\n",
    "\n",
    "    @fahrenheit.setter\n",
    "    def fahrenheit(self, value: int) -> None:\n",
    "        print(\"Setting value...\")\n",
    "        if value < -273.15:\n",
    "            raise ValueError(\"Temperature below -273 is not possible\")\n",
    "        self._temperature = value\n",
    "\n",
    "# create an object\n",
    "human = Celsius(37)\n",
    "\n",
    "print(human.celsius)\n",
    "print(human.fahrenheit)\n",
    "\n",
    "coldest_thing = Celsius(-300)"
   ]
  }
 ],
 "metadata": {
  "accelerator": "GPU",
  "colab": {
   "collapsed_sections": [
    "alike-qatar",
    "fabulous-manor",
    "micro-compilation",
    "acting-convenience",
    "decreased-disposition",
    "endless-egyptian",
    "saved-synthesis",
    "sustained-latest",
    "undefined-cutting",
    "nonprofit-hamilton"
   ],
   "provenance": [],
   "toc_visible": true
  },
  "kernelspec": {
   "display_name": "Python 3.9.13 64-bit ('shims')",
   "language": "python",
   "name": "python3"
  },
  "language_info": {
   "codemirror_mode": {
    "name": "ipython",
    "version": 3
   },
   "file_extension": ".py",
   "mimetype": "text/x-python",
   "name": "python",
   "nbconvert_exporter": "python",
   "pygments_lexer": "ipython3",
   "version": "3.10.5"
  },
  "vscode": {
   "interpreter": {
    "hash": "b5f5e424c1a21b4c24c141aeed2ba61fdbadda60331c393916eb037c9a8bd1a9"
   }
  }
 },
 "nbformat": 4,
 "nbformat_minor": 5
}
